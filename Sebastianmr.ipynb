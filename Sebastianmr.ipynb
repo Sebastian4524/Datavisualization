{
  "nbformat": 4,
  "nbformat_minor": 0,
  "metadata": {
    "colab": {
      "provenance": [],
      "toc_visible": true,
      "authorship_tag": "ABX9TyMH1i6oyYQCTsqNMSePA3aV",
      "include_colab_link": true
    },
    "kernelspec": {
      "name": "python3",
      "display_name": "Python 3"
    },
    "language_info": {
      "name": "python"
    }
  },
  "cells": [
    {
      "cell_type": "markdown",
      "metadata": {
        "id": "view-in-github",
        "colab_type": "text"
      },
      "source": [
        "<a href=\"https://colab.research.google.com/github/Sebastian4524/Datavisualization/blob/main/Sebastianmr.ipynb\" target=\"_parent\"><img src=\"https://colab.research.google.com/assets/colab-badge.svg\" alt=\"Open In Colab\"/></a>"
      ]
    },
    {
      "cell_type": "markdown",
      "source": [
        "#TITLE\n"
      ],
      "metadata": {
        "id": "RIAh4kAWE6q7"
      }
    },
    {
      "cell_type": "markdown",
      "source": [
        "## SUBTITLE"
      ],
      "metadata": {
        "id": "zxPH15kAGPFR"
      }
    },
    {
      "cell_type": "markdown",
      "source": [
        "# text formating"
      ],
      "metadata": {
        "id": "qFPUfQjLG3hj"
      }
    },
    {
      "cell_type": "markdown",
      "source": [
        "## bold\n",
        "**Sebastian Montana Rojas**"
      ],
      "metadata": {
        "id": "5MlQ42bDG-mT"
      }
    },
    {
      "cell_type": "markdown",
      "source": [
        "## Italic\n",
        "*Sebastian Montana Rojas**"
      ],
      "metadata": {
        "id": "F248Y9ZiIDD2"
      }
    },
    {
      "cell_type": "markdown",
      "source": [
        "# combinacion\n",
        "*** Sebastian Montana Rojas ***"
      ],
      "metadata": {
        "id": "yhV5AXvyIRqm"
      }
    },
    {
      "cell_type": "markdown",
      "source": [
        "#underline\n",
        "there no underlines here\n",
        "Sebastian Montana Rojas\n",
        "we use\n",
        "HTML\n",
        "<p><u> sebastian Montana Rojas </u></p>"
      ],
      "metadata": {
        "id": "t323FMZNIdlH"
      }
    },
    {
      "cell_type": "markdown",
      "source": [
        "#listas\n",
        "1. manzanas\n",
        "2. peras\n",
        "3. papayas\n",
        "\n",
        "+ manzanas\n",
        "+ limones\n",
        "\n",
        "<ul>\n",
        "  <li>Manzanas</li>\n",
        "  <li>Peras</li>\n",
        "  <li>Naranjas</li>\n",
        "  <li>Plátanos</li>\n",
        "</ul>\n",
        "\n",
        "<ol>\n",
        "  <li>Manzanas</li>\n",
        "  <li>Peras</li>\n",
        "  <li>Naranjas</li>\n",
        "  <li>Plátanos</li>\n",
        "</ol>\n"
      ],
      "metadata": {
        "id": "0R6hezbAK8yh"
      }
    },
    {
      "cell_type": "markdown",
      "source": [
        "![image.fjif](https://img.freepik.com/foto-gratis/resumen-bombilla-creativa-sobre-fondo-azul-brillante-ia-generativa_188544-8090.jpg)\n"
      ],
      "metadata": {
        "id": "-9KYK_QkCZhb"
      }
    },
    {
      "cell_type": "markdown",
      "source": [
        "## video\n",
        "\n",
        "<iframe width=\"560\" height=\"315\" src=\"https://www.youtube.com/embed/by3yRdlQvzs?si=tUKUNLmRgwgQFWs3\" title=\"YouTube video player\" frameborder=\"0\" allow=\"accelerometer; autoplay; clipboard-write; encrypted-media; gyroscope; picture-in-picture; web-share\" allowfullscreen></iframe>\n",
        "\n"
      ],
      "metadata": {
        "id": "VCmiG2nICrFr"
      }
    },
    {
      "cell_type": "code",
      "source": [
        "%%html\n",
        "<iframe width=\"560\" height=\"315\" src=\"https://www.youtube.com/embed/krfiAKH6_1I?si=I_RjQNyk8DQgvUv9\" title=\"YouTube video player\" frameborder=\"0\" allow=\"accelerometer; autoplay; clipboard-write; encrypted-media; gyroscope; picture-in-picture; web-share\" allowfullscreen></iframe>"
      ],
      "metadata": {
        "id": "F2dwCcEGGQ7J",
        "outputId": "da74c47e-01ab-43c7-ae13-f97926a4a85d",
        "colab": {
          "base_uri": "https://localhost:8080/",
          "height": 336
        }
      },
      "execution_count": 5,
      "outputs": [
        {
          "output_type": "display_data",
          "data": {
            "text/plain": [
              "<IPython.core.display.HTML object>"
            ],
            "text/html": [
              "<iframe width=\"560\" height=\"315\" src=\"https://www.youtube.com/embed/krfiAKH6_1I?si=I_RjQNyk8DQgvUv9\" title=\"YouTube video player\" frameborder=\"0\" allow=\"accelerometer; autoplay; clipboard-write; encrypted-media; gyroscope; picture-in-picture; web-share\" allowfullscreen></iframe>\n"
            ]
          },
          "metadata": {}
        }
      ]
    },
    {
      "cell_type": "markdown",
      "source": [
        "## cambio color titulo\n",
        "\n",
        "<div style=\"background-color: #ffcccb; padding: 5px; border-radius: 5px;\">\n",
        "  **Mi título en color**\n",
        "</div>\n"
      ],
      "metadata": {
        "id": "wG5IUQlkHJdr"
      }
    },
    {
      "cell_type": "code",
      "source": [
        "%%html\n",
        "<div style=\"background-color: #33FF8A; padding: 5px; border-radius: 5px;\">\n",
        "  **Sebastian Montana Rojas\n",
        "**\n",
        "</div>\n"
      ],
      "metadata": {
        "id": "-Sx_7-1_HL22",
        "outputId": "4514e927-cf6c-43e7-ee2f-dbdfa751c5b0",
        "colab": {
          "base_uri": "https://localhost:8080/",
          "height": 44
        }
      },
      "execution_count": 9,
      "outputs": [
        {
          "output_type": "display_data",
          "data": {
            "text/plain": [
              "<IPython.core.display.HTML object>"
            ],
            "text/html": [
              "<div style=\"background-color: #33FF8A; padding: 5px; border-radius: 5px;\">\n",
              "  **Sebastian Montana Rojas \n",
              "**\n",
              "</div>\n"
            ]
          },
          "metadata": {}
        }
      ]
    },
    {
      "cell_type": "markdown",
      "source": [],
      "metadata": {
        "id": "JzIwPYEcIVSy"
      }
    },
    {
      "cell_type": "code",
      "source": [
        "%%html\n",
        "<h1 style=\"color:red\">Mi título en rojo</h1>\n"
      ],
      "metadata": {
        "id": "8TDoZsnAIbQp",
        "outputId": "ab4b3074-26bc-4c0d-8076-3a331605aa23",
        "colab": {
          "base_uri": "https://localhost:8080/",
          "height": 74
        }
      },
      "execution_count": 8,
      "outputs": [
        {
          "output_type": "display_data",
          "data": {
            "text/plain": [
              "<IPython.core.display.HTML object>"
            ],
            "text/html": [
              "<h1 style=\"color:red\">Mi título en rojo</h1>\n"
            ]
          },
          "metadata": {}
        }
      ]
    },
    {
      "cell_type": "markdown",
      "source": [
        "<fond color=\"33FF8A\"> Sebastian Montana Rojas.</font>\n",
        "\n",
        "\n"
      ],
      "metadata": {
        "id": "M1yjtNu5Iy0F"
      }
    },
    {
      "cell_type": "code",
      "source": [],
      "metadata": {
        "id": "Tp_yMu8OJOjZ"
      },
      "execution_count": 8,
      "outputs": []
    }
  ]
}