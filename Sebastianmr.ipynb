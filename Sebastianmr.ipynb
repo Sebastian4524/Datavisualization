{
  "nbformat": 4,
  "nbformat_minor": 0,
  "metadata": {
    "colab": {
      "provenance": [],
      "toc_visible": true,
      "authorship_tag": "ABX9TyPaR77khtnokwxAYVxzH5/L",
      "include_colab_link": true
    },
    "kernelspec": {
      "name": "python3",
      "display_name": "Python 3"
    },
    "language_info": {
      "name": "python"
    }
  },
  "cells": [
    {
      "cell_type": "markdown",
      "metadata": {
        "id": "view-in-github",
        "colab_type": "text"
      },
      "source": [
        "<a href=\"https://colab.research.google.com/github/Sebastian4524/Datavisualization/blob/main/Sebastianmr.ipynb\" target=\"_parent\"><img src=\"https://colab.research.google.com/assets/colab-badge.svg\" alt=\"Open In Colab\"/></a>"
      ]
    },
    {
      "cell_type": "markdown",
      "source": [
        "#TITLE\n"
      ],
      "metadata": {
        "id": "RIAh4kAWE6q7"
      }
    },
    {
      "cell_type": "markdown",
      "source": [
        "## SUBTITLE"
      ],
      "metadata": {
        "id": "zxPH15kAGPFR"
      }
    },
    {
      "cell_type": "markdown",
      "source": [
        "# text formating"
      ],
      "metadata": {
        "id": "qFPUfQjLG3hj"
      }
    },
    {
      "cell_type": "markdown",
      "source": [
        "## bold\n",
        "**Sebastian Montana Rojas**"
      ],
      "metadata": {
        "id": "5MlQ42bDG-mT"
      }
    },
    {
      "cell_type": "markdown",
      "source": [
        "## Italic\n",
        "*Sebastian Montana Rojas**"
      ],
      "metadata": {
        "id": "F248Y9ZiIDD2"
      }
    },
    {
      "cell_type": "markdown",
      "source": [
        "# combinacion\n",
        "*** Sebastian Montana Rojas ***"
      ],
      "metadata": {
        "id": "yhV5AXvyIRqm"
      }
    },
    {
      "cell_type": "markdown",
      "source": [
        "#underline\n",
        "there no underlines here\n",
        "Sebastian Montana Rojas\n",
        "we use\n",
        "HTML\n",
        "<p><u> sebastian Montana Rojas </u></p>"
      ],
      "metadata": {
        "id": "t323FMZNIdlH"
      }
    },
    {
      "cell_type": "markdown",
      "source": [
        "#listas\n",
        "1. manzanas\n",
        "2. peras\n",
        "3. papayas\n",
        "\n",
        "+ manzanas\n",
        "+ limones\n",
        "\n",
        "<ul>\n",
        "  <li>Manzanas</li>\n",
        "  <li>Peras</li>\n",
        "  <li>Naranjas</li>\n",
        "  <li>Plátanos</li>\n",
        "</ul>\n",
        "\n",
        "<ol>\n",
        "  <li>Manzanas</li>\n",
        "  <li>Peras</li>\n",
        "  <li>Naranjas</li>\n",
        "  <li>Plátanos</li>\n",
        "</ol>\n"
      ],
      "metadata": {
        "id": "0R6hezbAK8yh"
      }
    },
    {
      "cell_type": "code",
      "source": [],
      "metadata": {
        "id": "R0036fK7Lu5Y"
      },
      "execution_count": 1,
      "outputs": []
    }
  ]
}