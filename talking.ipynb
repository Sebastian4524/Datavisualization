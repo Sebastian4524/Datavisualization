{
  "nbformat": 4,
  "nbformat_minor": 0,
  "metadata": {
    "colab": {
      "provenance": [],
      "toc_visible": true,
      "authorship_tag": "ABX9TyN5wFg4dvHKTo75XG/1x7vW",
      "include_colab_link": true
    },
    "kernelspec": {
      "name": "python3",
      "display_name": "Python 3"
    },
    "language_info": {
      "name": "python"
    }
  },
  "cells": [
    {
      "cell_type": "markdown",
      "metadata": {
        "id": "view-in-github",
        "colab_type": "text"
      },
      "source": [
        "<a href=\"https://colab.research.google.com/github/Sebastian4524/Datavisualization/blob/main/talking.ipynb\" target=\"_parent\"><img src=\"https://colab.research.google.com/assets/colab-badge.svg\" alt=\"Open In Colab\"/></a>"
      ]
    },
    {
      "cell_type": "code",
      "execution_count": null,
      "metadata": {
        "id": "PaoYyu4dJ4h-"
      },
      "outputs": [],
      "source": [
        " # variable ( name and description, variables and units )\n",
        " # name and description\n",
        " # period or dates, frecuency, Individuals 8, year? month ?  countrys ? cities ?\n",
        " # sources ( With Links)\n",
        " #( Second part )\n",
        " # What is the hipothesis i am telling ( make it atractive !)\n",
        " #audience ( who do you think the grafis works for\n",
        " # what type of vizualization I am going to do\n",
        " # two images, two examples ( Graficos I like )( for those two grafics I am going to use explained, history audience what is good for )"
      ]
    },
    {
      "cell_type": "markdown",
      "source": [
        " # World Bank's Multidimensional Poverty Measure\n",
        "\n",
        "A clear picture of poverty in all over the world base on diferent dimensions making contrast between them and comparations with other countrys\n",
        "\n",
        " ## Variables\n",
        "<ol>\n",
        "  <li>Monetary</li>\n",
        "  <li>Educational Attainment</li>\n",
        "  <li>Electricity</li>\n",
        "  <li>Sanitation</li>\n",
        "  <li>Drinking Water </li>\n",
        "</ol>\n",
        "\n",
        "## frecuency\n",
        "Data gathered from 2009 to 2022\n",
        "## Subjects\n",
        "Countries\n",
        "## Link\n",
        "<p><u>https://www.worldbank.org/en/topic/poverty/brief/multidimensional-poverty-measure</u></p>\n",
        "\n",
        "## History \" How can we Truly Understand poverty \"\n",
        "We live with the concep of poverty, we believe that we know waht is poverty and how it look, But, Do we really Understand it? Have we ever had comparison points to measure it ? that is what we are gonne be able to do with the Grafit to be presented\n",
        "\n",
        "## What it work for?\n",
        "To locate our selves in the great picture of mundial poverty, most of us have never though they can be poor or they can be having issues related basic needs, this is gonna be a measure that will allow you to know where can you locate your self on this stadistics\n",
        "## Audience\n",
        "People who would like to have a better understanding of how poverty works and how it is measure in all over the world, they can also use this to analyze factor that cause country to have a higer index of poverty and what they can do to avoid being one of them, this might work specialy for organization, goverments."
      ],
      "metadata": {
        "id": "LvXBJYsAM0b_"
      }
    }
  ]
}