{
  "nbformat": 4,
  "nbformat_minor": 0,
  "metadata": {
    "colab": {
      "provenance": [],
      "include_colab_link": true
    },
    "kernelspec": {
      "name": "python3",
      "display_name": "Python 3"
    },
    "language_info": {
      "name": "python"
    }
  },
  "cells": [
    {
      "cell_type": "markdown",
      "metadata": {
        "id": "view-in-github",
        "colab_type": "text"
      },
      "source": [
        "<a href=\"https://colab.research.google.com/github/Sebastian4524/Datavisualization/blob/main/Workshop_1.ipynb\" target=\"_parent\"><img src=\"https://colab.research.google.com/assets/colab-badge.svg\" alt=\"Open In Colab\"/></a>"
      ]
    },
    {
      "cell_type": "markdown",
      "source": [
        "<h1 align = \"center\">\n",
        "<strong> Universidad de La Salle </strong>\n",
        "</h1>\n",
        "\n",
        "<h1 align = \"center\">\n",
        "<strong> Finance and International Commerce Program </strong>\n",
        "</h1>\n",
        "\n",
        "<h1 align = \"center\">\n",
        "<strong> Data Visualization - Workshop 1 </strong>\n",
        "</h1>\n"
      ],
      "metadata": {
        "id": "BJolccUZSw9G"
      }
    },
    {
      "cell_type": "markdown",
      "source": [
        "# **Instructions**\n",
        "\n",
        "1. Please read carefully the document. Ask all the questions you may have.\n",
        "2. Save this file in your Google Drive.\n",
        "3. DO NOT alter any cell unless it specifically ask you to do it.\n",
        "4. You will have **two hours** (until 11am) maximum to finish and deliver this workshop.\n",
        "5. You can use any help you want: your notes, your codes, internet, classmates.\n",
        "6. Nevertheless, the workshop must be presented individually.\n",
        "7. Once you have finish, save a copy in your GitHub class repository.\n",
        "8. The deliver process is as follows:\n",
        "    \n",
        "    8.1. Via email you will send the link to the GitHub location.\n",
        "    \n",
        "    8.2. In the same mail, just for safety, you will attach a copy of your `.ipynb` file.\n",
        "    \n",
        "    8.3. The email must have the subject: \"W1 DV\".   "
      ],
      "metadata": {
        "id": "pLRc5RAyWsre"
      }
    },
    {
      "cell_type": "markdown",
      "source": [
        "# **To keep in mind**\n",
        "\n",
        "* The excercises propouse are intended to **push** you a little futher in your Pyton skills.\n",
        "* This means that there are going to be exercises above the level seen in class.\n",
        "* The idea is to incentive your creative thinking and solving problem skills.\n",
        "* As always there several ways to do the excersice. But in this case, I ask you to use only the tools we learned.\n",
        "* I ask you to trust me. Give your best effort. Grades do not matter here."
      ],
      "metadata": {
        "id": "4QKdNKujZEbk"
      }
    },
    {
      "cell_type": "markdown",
      "source": [
        "# **Exercise Set**"
      ],
      "metadata": {
        "id": "2kRoSKUmaGl9"
      }
    },
    {
      "cell_type": "markdown",
      "source": [
        "## Ex 1.\n",
        "\n",
        "In the cell code below, first create a variable with your full name then write the appropiate code, using *split*, to print your full name as this:\n",
        "\n",
        "`First Name: José` &nbsp;   &nbsp;   &nbsp;   &nbsp;   &nbsp; `Middle Name: Rodrigo`\n",
        "\n",
        "`First Last  Name: Vélez` &nbsp;   &nbsp;   &nbsp;   &nbsp;   &nbsp; `Second Last Name: Molano`"
      ],
      "metadata": {
        "id": "LAdWe8iEaL7B"
      }
    },
    {
      "cell_type": "code",
      "execution_count": 15,
      "metadata": {
        "id": "rw792kISSt3n",
        "outputId": "94d476a3-4e2a-453e-d75a-bf69cb1f4076",
        "colab": {
          "base_uri": "https://localhost:8080/",
          "height": 0
        }
      },
      "outputs": [
        {
          "output_type": "stream",
          "name": "stdout",
          "text": [
            "First name: Sebastian  Middle name: Montana Last Name: Rojas\n"
          ]
        }
      ],
      "source": [
        "# Answ. Ex 1\n",
        "# (write your code below)\n",
        "x = \"Sebastian\"\n",
        "b = \"Montana\"\n",
        "c = \"Rojas\"\n",
        "print(\"First name:\",x,\n",
        "      \" Middle name:\",b,\n",
        "      \"Last Name:\",c,)"
      ]
    },
    {
      "cell_type": "markdown",
      "source": [
        "## Ex 2.\n",
        "\n",
        "In the cell code below, you are given two random numbers `x` and `y`.\n",
        "\n",
        "Write the appropiate code to print the result of dividing `x` by all its precedents rounded by `y` decimal positions.\n",
        "\n",
        "This is an example of the expected result for `x = 15` and `y = 2`:\n",
        "\n",
        "`15 / 1 = 15.00`\n",
        "\n",
        "`15 / 2 = 7.50`\n",
        "\n",
        "`15 / 3 = 5.00`\n",
        "\n",
        "`...`\n",
        "\n",
        "`15 / 15 = 1.00`\n",
        "\n",
        "**JUST IN CASE!** You must use the variables given to you"
      ],
      "metadata": {
        "id": "YFsGiwcNfgzP"
      }
    },
    {
      "cell_type": "code",
      "source": [
        "# Answ. Ex 2\n",
        "###################################\n",
        "#      DO NOT MODIFY THIS PART    #\n",
        "import numpy as np\n",
        "x = round(np.random.uniform(12,22))\n",
        "y = round(np.random.uniform(1,4))\n",
        "###################################\n",
        "\n",
        "# (write your code below)\n",
        "\n",
        "for i in range(y, x):\n",
        "  print(y, '/', i, '=', round(y/i,y))"
      ],
      "metadata": {
        "id": "Dwdsh30Ti3vl",
        "outputId": "a21daf85-70b4-41ab-e759-74707f7a948b",
        "colab": {
          "base_uri": "https://localhost:8080/",
          "height": 0
        }
      },
      "execution_count": 35,
      "outputs": [
        {
          "output_type": "stream",
          "name": "stdout",
          "text": [
            "2 / 2 = 1.0\n",
            "2 / 3 = 0.67\n",
            "2 / 4 = 0.5\n",
            "2 / 5 = 0.4\n",
            "2 / 6 = 0.33\n",
            "2 / 7 = 0.29\n",
            "2 / 8 = 0.25\n",
            "2 / 9 = 0.22\n",
            "2 / 10 = 0.2\n",
            "2 / 11 = 0.18\n",
            "2 / 12 = 0.17\n",
            "2 / 13 = 0.15\n",
            "2 / 14 = 0.14\n",
            "2 / 15 = 0.13\n",
            "2 / 16 = 0.12\n",
            "2 / 17 = 0.12\n"
          ]
        }
      ]
    },
    {
      "cell_type": "markdown",
      "source": [
        "## Ex 3.\n",
        "\n",
        "The Fibonnaci sequence is a sequence constructed by the process:\n",
        "\n",
        "$x_{i} = x_{i-1} + x_{i-2}$\n",
        "\n",
        "where $x_{1} = x_{2} = 1$.\n",
        "\n",
        "Below you are given a random number `z`, write the appropiate code to calculate and print the `z`th position of the Fibonnaci sequence.\n",
        "\n",
        "\n"
      ],
      "metadata": {
        "id": "PYIRNu3imJ_n"
      }
    },
    {
      "cell_type": "code",
      "source": [
        "# Answ. Ex 3\n",
        "###################################\n",
        "#      DO NOT MODIFY THIS PART    #\n",
        "import numpy as np\n",
        "z = round(np.random.uniform(50,100))\n",
        "###################################\n",
        "\n",
        "# (write your code below)\n",
        "t=1\n",
        "p=200\n",
        "\n",
        "for i in range(t,p):\n",
        "  print((i,\"=\",(i+i*2)),\"IN position\", i*z)\n",
        "\n",
        "\n",
        "\n",
        "\n"
      ],
      "metadata": {
        "id": "wntlZUatp9uE",
        "outputId": "e2ccc955-a609-414e-9382-8503a3424f4d",
        "colab": {
          "base_uri": "https://localhost:8080/"
        }
      },
      "execution_count": 143,
      "outputs": [
        {
          "output_type": "stream",
          "name": "stdout",
          "text": [
            "(1, '=', 3) IN position 66\n",
            "(2, '=', 6) IN position 132\n",
            "(3, '=', 9) IN position 198\n",
            "(4, '=', 12) IN position 264\n",
            "(5, '=', 15) IN position 330\n",
            "(6, '=', 18) IN position 396\n",
            "(7, '=', 21) IN position 462\n",
            "(8, '=', 24) IN position 528\n",
            "(9, '=', 27) IN position 594\n",
            "(10, '=', 30) IN position 660\n",
            "(11, '=', 33) IN position 726\n",
            "(12, '=', 36) IN position 792\n",
            "(13, '=', 39) IN position 858\n",
            "(14, '=', 42) IN position 924\n",
            "(15, '=', 45) IN position 990\n",
            "(16, '=', 48) IN position 1056\n",
            "(17, '=', 51) IN position 1122\n",
            "(18, '=', 54) IN position 1188\n",
            "(19, '=', 57) IN position 1254\n",
            "(20, '=', 60) IN position 1320\n",
            "(21, '=', 63) IN position 1386\n",
            "(22, '=', 66) IN position 1452\n",
            "(23, '=', 69) IN position 1518\n",
            "(24, '=', 72) IN position 1584\n",
            "(25, '=', 75) IN position 1650\n",
            "(26, '=', 78) IN position 1716\n",
            "(27, '=', 81) IN position 1782\n",
            "(28, '=', 84) IN position 1848\n",
            "(29, '=', 87) IN position 1914\n",
            "(30, '=', 90) IN position 1980\n",
            "(31, '=', 93) IN position 2046\n",
            "(32, '=', 96) IN position 2112\n",
            "(33, '=', 99) IN position 2178\n",
            "(34, '=', 102) IN position 2244\n",
            "(35, '=', 105) IN position 2310\n",
            "(36, '=', 108) IN position 2376\n",
            "(37, '=', 111) IN position 2442\n",
            "(38, '=', 114) IN position 2508\n",
            "(39, '=', 117) IN position 2574\n",
            "(40, '=', 120) IN position 2640\n",
            "(41, '=', 123) IN position 2706\n",
            "(42, '=', 126) IN position 2772\n",
            "(43, '=', 129) IN position 2838\n",
            "(44, '=', 132) IN position 2904\n",
            "(45, '=', 135) IN position 2970\n",
            "(46, '=', 138) IN position 3036\n",
            "(47, '=', 141) IN position 3102\n",
            "(48, '=', 144) IN position 3168\n",
            "(49, '=', 147) IN position 3234\n",
            "(50, '=', 150) IN position 3300\n",
            "(51, '=', 153) IN position 3366\n",
            "(52, '=', 156) IN position 3432\n",
            "(53, '=', 159) IN position 3498\n",
            "(54, '=', 162) IN position 3564\n",
            "(55, '=', 165) IN position 3630\n",
            "(56, '=', 168) IN position 3696\n",
            "(57, '=', 171) IN position 3762\n",
            "(58, '=', 174) IN position 3828\n",
            "(59, '=', 177) IN position 3894\n",
            "(60, '=', 180) IN position 3960\n",
            "(61, '=', 183) IN position 4026\n",
            "(62, '=', 186) IN position 4092\n",
            "(63, '=', 189) IN position 4158\n",
            "(64, '=', 192) IN position 4224\n",
            "(65, '=', 195) IN position 4290\n",
            "(66, '=', 198) IN position 4356\n",
            "(67, '=', 201) IN position 4422\n",
            "(68, '=', 204) IN position 4488\n",
            "(69, '=', 207) IN position 4554\n",
            "(70, '=', 210) IN position 4620\n",
            "(71, '=', 213) IN position 4686\n",
            "(72, '=', 216) IN position 4752\n",
            "(73, '=', 219) IN position 4818\n",
            "(74, '=', 222) IN position 4884\n",
            "(75, '=', 225) IN position 4950\n",
            "(76, '=', 228) IN position 5016\n",
            "(77, '=', 231) IN position 5082\n",
            "(78, '=', 234) IN position 5148\n",
            "(79, '=', 237) IN position 5214\n",
            "(80, '=', 240) IN position 5280\n",
            "(81, '=', 243) IN position 5346\n",
            "(82, '=', 246) IN position 5412\n",
            "(83, '=', 249) IN position 5478\n",
            "(84, '=', 252) IN position 5544\n",
            "(85, '=', 255) IN position 5610\n",
            "(86, '=', 258) IN position 5676\n",
            "(87, '=', 261) IN position 5742\n",
            "(88, '=', 264) IN position 5808\n",
            "(89, '=', 267) IN position 5874\n",
            "(90, '=', 270) IN position 5940\n",
            "(91, '=', 273) IN position 6006\n",
            "(92, '=', 276) IN position 6072\n",
            "(93, '=', 279) IN position 6138\n",
            "(94, '=', 282) IN position 6204\n",
            "(95, '=', 285) IN position 6270\n",
            "(96, '=', 288) IN position 6336\n",
            "(97, '=', 291) IN position 6402\n",
            "(98, '=', 294) IN position 6468\n",
            "(99, '=', 297) IN position 6534\n",
            "(100, '=', 300) IN position 6600\n",
            "(101, '=', 303) IN position 6666\n",
            "(102, '=', 306) IN position 6732\n",
            "(103, '=', 309) IN position 6798\n",
            "(104, '=', 312) IN position 6864\n",
            "(105, '=', 315) IN position 6930\n",
            "(106, '=', 318) IN position 6996\n",
            "(107, '=', 321) IN position 7062\n",
            "(108, '=', 324) IN position 7128\n",
            "(109, '=', 327) IN position 7194\n",
            "(110, '=', 330) IN position 7260\n",
            "(111, '=', 333) IN position 7326\n",
            "(112, '=', 336) IN position 7392\n",
            "(113, '=', 339) IN position 7458\n",
            "(114, '=', 342) IN position 7524\n",
            "(115, '=', 345) IN position 7590\n",
            "(116, '=', 348) IN position 7656\n",
            "(117, '=', 351) IN position 7722\n",
            "(118, '=', 354) IN position 7788\n",
            "(119, '=', 357) IN position 7854\n",
            "(120, '=', 360) IN position 7920\n",
            "(121, '=', 363) IN position 7986\n",
            "(122, '=', 366) IN position 8052\n",
            "(123, '=', 369) IN position 8118\n",
            "(124, '=', 372) IN position 8184\n",
            "(125, '=', 375) IN position 8250\n",
            "(126, '=', 378) IN position 8316\n",
            "(127, '=', 381) IN position 8382\n",
            "(128, '=', 384) IN position 8448\n",
            "(129, '=', 387) IN position 8514\n",
            "(130, '=', 390) IN position 8580\n",
            "(131, '=', 393) IN position 8646\n",
            "(132, '=', 396) IN position 8712\n",
            "(133, '=', 399) IN position 8778\n",
            "(134, '=', 402) IN position 8844\n",
            "(135, '=', 405) IN position 8910\n",
            "(136, '=', 408) IN position 8976\n",
            "(137, '=', 411) IN position 9042\n",
            "(138, '=', 414) IN position 9108\n",
            "(139, '=', 417) IN position 9174\n",
            "(140, '=', 420) IN position 9240\n",
            "(141, '=', 423) IN position 9306\n",
            "(142, '=', 426) IN position 9372\n",
            "(143, '=', 429) IN position 9438\n",
            "(144, '=', 432) IN position 9504\n",
            "(145, '=', 435) IN position 9570\n",
            "(146, '=', 438) IN position 9636\n",
            "(147, '=', 441) IN position 9702\n",
            "(148, '=', 444) IN position 9768\n",
            "(149, '=', 447) IN position 9834\n",
            "(150, '=', 450) IN position 9900\n",
            "(151, '=', 453) IN position 9966\n",
            "(152, '=', 456) IN position 10032\n",
            "(153, '=', 459) IN position 10098\n",
            "(154, '=', 462) IN position 10164\n",
            "(155, '=', 465) IN position 10230\n",
            "(156, '=', 468) IN position 10296\n",
            "(157, '=', 471) IN position 10362\n",
            "(158, '=', 474) IN position 10428\n",
            "(159, '=', 477) IN position 10494\n",
            "(160, '=', 480) IN position 10560\n",
            "(161, '=', 483) IN position 10626\n",
            "(162, '=', 486) IN position 10692\n",
            "(163, '=', 489) IN position 10758\n",
            "(164, '=', 492) IN position 10824\n",
            "(165, '=', 495) IN position 10890\n",
            "(166, '=', 498) IN position 10956\n",
            "(167, '=', 501) IN position 11022\n",
            "(168, '=', 504) IN position 11088\n",
            "(169, '=', 507) IN position 11154\n",
            "(170, '=', 510) IN position 11220\n",
            "(171, '=', 513) IN position 11286\n",
            "(172, '=', 516) IN position 11352\n",
            "(173, '=', 519) IN position 11418\n",
            "(174, '=', 522) IN position 11484\n",
            "(175, '=', 525) IN position 11550\n",
            "(176, '=', 528) IN position 11616\n",
            "(177, '=', 531) IN position 11682\n",
            "(178, '=', 534) IN position 11748\n",
            "(179, '=', 537) IN position 11814\n",
            "(180, '=', 540) IN position 11880\n",
            "(181, '=', 543) IN position 11946\n",
            "(182, '=', 546) IN position 12012\n",
            "(183, '=', 549) IN position 12078\n",
            "(184, '=', 552) IN position 12144\n",
            "(185, '=', 555) IN position 12210\n",
            "(186, '=', 558) IN position 12276\n",
            "(187, '=', 561) IN position 12342\n",
            "(188, '=', 564) IN position 12408\n",
            "(189, '=', 567) IN position 12474\n",
            "(190, '=', 570) IN position 12540\n",
            "(191, '=', 573) IN position 12606\n",
            "(192, '=', 576) IN position 12672\n",
            "(193, '=', 579) IN position 12738\n",
            "(194, '=', 582) IN position 12804\n",
            "(195, '=', 585) IN position 12870\n",
            "(196, '=', 588) IN position 12936\n",
            "(197, '=', 591) IN position 13002\n",
            "(198, '=', 594) IN position 13068\n",
            "(199, '=', 597) IN position 13134\n"
          ]
        }
      ]
    },
    {
      "cell_type": "markdown",
      "source": [
        "## Ex 4.\n",
        "\n",
        "Create a string variable with the name of your favorite music artist or group.Write the appropiate code to print it in reversed order.\n",
        "\n",
        "*Example:*\n",
        "\n",
        "`w = 'Dog'`\n",
        "\n",
        "Expected result: `'goD'`.\n",
        "\n",
        "\n",
        "\n"
      ],
      "metadata": {
        "id": "2t2WnRieqLoc"
      }
    },
    {
      "cell_type": "code",
      "source": [
        "# Answ. Ex 4\n",
        "# (write your code below)\n",
        "\n",
        "w = \"diomedes\"\n",
        "w[::-1]"
      ],
      "metadata": {
        "id": "FQU_vc_5sse0",
        "outputId": "1728d15e-bd38-4fa5-9fe7-7b763099a25f",
        "colab": {
          "base_uri": "https://localhost:8080/",
          "height": 35
        }
      },
      "execution_count": 106,
      "outputs": [
        {
          "output_type": "execute_result",
          "data": {
            "text/plain": [
              "'sedemoid'"
            ],
            "application/vnd.google.colaboratory.intrinsic+json": {
              "type": "string"
            }
          },
          "metadata": {},
          "execution_count": 106
        }
      ]
    },
    {
      "cell_type": "code",
      "source": [],
      "metadata": {
        "id": "SZcLUTDyX_lR"
      },
      "execution_count": null,
      "outputs": []
    }
  ]
}