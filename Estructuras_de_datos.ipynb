{
  "nbformat": 4,
  "nbformat_minor": 0,
  "metadata": {
    "colab": {
      "provenance": [],
      "authorship_tag": "ABX9TyM3coXzpVvfx+roYjQI8m4L",
      "include_colab_link": true
    },
    "kernelspec": {
      "name": "python3",
      "display_name": "Python 3"
    },
    "language_info": {
      "name": "python"
    }
  },
  "cells": [
    {
      "cell_type": "markdown",
      "metadata": {
        "id": "view-in-github",
        "colab_type": "text"
      },
      "source": [
        "<a href=\"https://colab.research.google.com/github/Sebastian4524/Datavisualization/blob/main/Estructuras_de_datos.ipynb\" target=\"_parent\"><img src=\"https://colab.research.google.com/assets/colab-badge.svg\" alt=\"Open In Colab\"/></a>"
      ]
    },
    {
      "cell_type": "code",
      "execution_count": null,
      "metadata": {
        "id": "raxHiLFBXEP3"
      },
      "outputs": [],
      "source": []
    },
    {
      "cell_type": "markdown",
      "source": [
        "# 1. linear Algebra #\n"
      ],
      "metadata": {
        "id": "kIP431oCY6Ca"
      }
    },
    {
      "cell_type": "code",
      "source": [
        "#libraries\n",
        "import numpy as np"
      ],
      "metadata": {
        "id": "gVZsq5eJZAh5"
      },
      "execution_count": 1,
      "outputs": []
    },
    {
      "cell_type": "code",
      "source": [
        "np.array([[1,2,3]])"
      ],
      "metadata": {
        "colab": {
          "base_uri": "https://localhost:8080/"
        },
        "id": "NBrh-14KZRgq",
        "outputId": "044bfeaf-cab3-42a6-93f1-3916fe6f220a"
      },
      "execution_count": 2,
      "outputs": [
        {
          "output_type": "execute_result",
          "data": {
            "text/plain": [
              "array([[1, 2, 3]])"
            ]
          },
          "metadata": {},
          "execution_count": 2
        }
      ]
    },
    {
      "cell_type": "code",
      "source": [
        "#colum vector\n",
        "x = np.array([[1],[2],[3]])\n",
        "print(x)\n",
        "print(x.shape)"
      ],
      "metadata": {
        "colab": {
          "base_uri": "https://localhost:8080/"
        },
        "id": "Avm82QUNaP2V",
        "outputId": "270039fa-8bfc-42ea-c361-95c2a9c965a2"
      },
      "execution_count": 3,
      "outputs": [
        {
          "output_type": "stream",
          "name": "stdout",
          "text": [
            "[[1]\n",
            " [2]\n",
            " [3]]\n",
            "(3, 1)\n"
          ]
        }
      ]
    },
    {
      "cell_type": "code",
      "source": [
        "# ROW VECTOR\n",
        "y = np.array([[4,5,6]])\n",
        "print(y)\n",
        "print(y.shape)"
      ],
      "metadata": {
        "colab": {
          "base_uri": "https://localhost:8080/"
        },
        "id": "evzT6RLTbIXv",
        "outputId": "f93cd1c5-2bb5-4fde-cd4c-295852771a4c"
      },
      "execution_count": 4,
      "outputs": [
        {
          "output_type": "stream",
          "name": "stdout",
          "text": [
            "[[4 5 6]]\n",
            "(1, 3)\n"
          ]
        }
      ]
    },
    {
      "cell_type": "code",
      "source": [
        "#Matrix a\n",
        "a = np.array([[1,2,3],\n",
        "              [4,5,6],\n",
        "              [7,8,9]])\n",
        "print(a)\n",
        "print(a.shape)"
      ],
      "metadata": {
        "colab": {
          "base_uri": "https://localhost:8080/"
        },
        "id": "qtxDqgjHbRXe",
        "outputId": "cd10b0f2-e8ab-4aff-bfbe-93b4d38a750b"
      },
      "execution_count": 5,
      "outputs": [
        {
          "output_type": "stream",
          "name": "stdout",
          "text": [
            "[[1 2 3]\n",
            " [4 5 6]\n",
            " [7 8 9]]\n",
            "(3, 3)\n"
          ]
        }
      ]
    },
    {
      "cell_type": "code",
      "source": [
        "#1,3\n",
        "#give the coordinates\n",
        "print(\"the first element of x\",x[0])\n",
        "print(\"the first element of x\",y[0,0])\n",
        "print(\"the first element of x\",a[0,0])\n"
      ],
      "metadata": {
        "colab": {
          "base_uri": "https://localhost:8080/"
        },
        "id": "a_9J1jJddyEG",
        "outputId": "49a71d88-0fd0-441e-8b68-3e614a5757d0"
      },
      "execution_count": 6,
      "outputs": [
        {
          "output_type": "stream",
          "name": "stdout",
          "text": [
            "the first element of x [1]\n",
            "the first element of x 4\n",
            "the first element of x 1\n"
          ]
        }
      ]
    },
    {
      "cell_type": "code",
      "source": [
        "#extrac more than 1\n",
        "print(\"the first two rows of X\",x[0:2])\n",
        "print(\"the first two rows of Y\",y[0,0:2])\n",
        "print(\"the first two rows of a\",a[0:2,0:2])"
      ],
      "metadata": {
        "colab": {
          "base_uri": "https://localhost:8080/"
        },
        "id": "ti-EAX7WfL6P",
        "outputId": "44e7e4f7-2097-42c2-bf32-b7d7b5a2de7f"
      },
      "execution_count": 7,
      "outputs": [
        {
          "output_type": "stream",
          "name": "stdout",
          "text": [
            "the first two rows of X [[1]\n",
            " [2]]\n",
            "the first two rows of Y [4 5]\n",
            "the first two rows of a [[1 2]\n",
            " [4 5]]\n"
          ]
        }
      ]
    },
    {
      "cell_type": "code",
      "source": [
        "#find a value\n",
        "## find the psition of the number 5 in a\n"
      ],
      "metadata": {
        "id": "vW_V-2pOhXPa"
      },
      "execution_count": 8,
      "outputs": []
    },
    {
      "cell_type": "code",
      "source": [
        "#1.4\n",
        "\n",
        "z1= np.zeros(5)\n",
        "print(z1)\n",
        "\n",
        "z2 = np.zeros((5,5))\n",
        "print(z2)"
      ],
      "metadata": {
        "colab": {
          "base_uri": "https://localhost:8080/"
        },
        "id": "r4ss2CUphfha",
        "outputId": "27f71991-7568-4422-ed88-682c1fddca4c"
      },
      "execution_count": 9,
      "outputs": [
        {
          "output_type": "stream",
          "name": "stdout",
          "text": [
            "[0. 0. 0. 0. 0.]\n",
            "[[0. 0. 0. 0. 0.]\n",
            " [0. 0. 0. 0. 0.]\n",
            " [0. 0. 0. 0. 0.]\n",
            " [0. 0. 0. 0. 0.]\n",
            " [0. 0. 0. 0. 0.]]\n"
          ]
        }
      ]
    },
    {
      "cell_type": "code",
      "source": [
        "abcd = np.array([[7,8,9,4,5,6,1,2,3,4,5,6,7,8,4,5,5,6,4,1,2,3,6,5,4]])\n",
        "print(abcd)\n",
        "abcd.reshape(5,5)"
      ],
      "metadata": {
        "colab": {
          "base_uri": "https://localhost:8080/"
        },
        "id": "0k6xwiSxjLI2",
        "outputId": "bb6ad5db-7372-4826-b199-389183c721b7"
      },
      "execution_count": 10,
      "outputs": [
        {
          "output_type": "stream",
          "name": "stdout",
          "text": [
            "[[7 8 9 4 5 6 1 2 3 4 5 6 7 8 4 5 5 6 4 1 2 3 6 5 4]]\n"
          ]
        },
        {
          "output_type": "execute_result",
          "data": {
            "text/plain": [
              "array([[7, 8, 9, 4, 5],\n",
              "       [6, 1, 2, 3, 4],\n",
              "       [5, 6, 7, 8, 4],\n",
              "       [5, 5, 6, 4, 1],\n",
              "       [2, 3, 6, 5, 4]])"
            ]
          },
          "metadata": {},
          "execution_count": 10
        }
      ]
    },
    {
      "cell_type": "code",
      "source": [
        "a34 = np.onces((5,5))\n",
        "print(a34)"
      ],
      "metadata": {
        "colab": {
          "base_uri": "https://localhost:8080/",
          "height": 280
        },
        "id": "a9XHwUpKmS-0",
        "outputId": "38d48941-d440-451a-b8ed-a458fae6e388"
      },
      "execution_count": 11,
      "outputs": [
        {
          "output_type": "error",
          "ename": "AttributeError",
          "evalue": "module 'numpy' has no attribute 'onces'",
          "traceback": [
            "\u001b[0;31m---------------------------------------------------------------------------\u001b[0m",
            "\u001b[0;31mAttributeError\u001b[0m                            Traceback (most recent call last)",
            "\u001b[0;32m<ipython-input-11-0ba78dffdb50>\u001b[0m in \u001b[0;36m<cell line: 1>\u001b[0;34m()\u001b[0m\n\u001b[0;32m----> 1\u001b[0;31m \u001b[0ma34\u001b[0m \u001b[0;34m=\u001b[0m \u001b[0mnp\u001b[0m\u001b[0;34m.\u001b[0m\u001b[0monces\u001b[0m\u001b[0;34m(\u001b[0m\u001b[0;34m(\u001b[0m\u001b[0;36m5\u001b[0m\u001b[0;34m,\u001b[0m\u001b[0;36m5\u001b[0m\u001b[0;34m)\u001b[0m\u001b[0;34m)\u001b[0m\u001b[0;34m\u001b[0m\u001b[0;34m\u001b[0m\u001b[0m\n\u001b[0m\u001b[1;32m      2\u001b[0m \u001b[0mprint\u001b[0m\u001b[0;34m(\u001b[0m\u001b[0ma34\u001b[0m\u001b[0;34m)\u001b[0m\u001b[0;34m\u001b[0m\u001b[0;34m\u001b[0m\u001b[0m\n",
            "\u001b[0;32m/usr/local/lib/python3.10/dist-packages/numpy/__init__.py\u001b[0m in \u001b[0;36m__getattr__\u001b[0;34m(attr)\u001b[0m\n\u001b[1;32m    326\u001b[0m             \u001b[0;32mraise\u001b[0m \u001b[0mRuntimeError\u001b[0m\u001b[0;34m(\u001b[0m\u001b[0;34m\"Tester was removed in NumPy 1.25.\"\u001b[0m\u001b[0;34m)\u001b[0m\u001b[0;34m\u001b[0m\u001b[0;34m\u001b[0m\u001b[0m\n\u001b[1;32m    327\u001b[0m \u001b[0;34m\u001b[0m\u001b[0m\n\u001b[0;32m--> 328\u001b[0;31m         raise AttributeError(\"module {!r} has no attribute \"\n\u001b[0m\u001b[1;32m    329\u001b[0m                              \"{!r}\".format(__name__, attr))\n\u001b[1;32m    330\u001b[0m \u001b[0;34m\u001b[0m\u001b[0m\n",
            "\u001b[0;31mAttributeError\u001b[0m: module 'numpy' has no attribute 'onces'"
          ]
        }
      ]
    },
    {
      "cell_type": "code",
      "source": [
        "##1.5 random number\n"
      ],
      "metadata": {
        "id": "pkUGuZdxmdD0"
      },
      "execution_count": null,
      "outputs": []
    },
    {
      "cell_type": "markdown",
      "source": [
        "### unifrom distribution [0,1)"
      ],
      "metadata": {
        "id": "6Y-bBuAEmzUr"
      }
    },
    {
      "cell_type": "code",
      "source": [
        "np.random.rand()"
      ],
      "metadata": {
        "id": "YsHLq_thm91v"
      },
      "execution_count": null,
      "outputs": []
    },
    {
      "cell_type": "code",
      "source": [
        "# example - coin toss\n",
        "if np.random.rand()<0.2:\n",
        "  print(\"heads\")\n",
        "else:\n",
        "  print(\"tails\")\n"
      ],
      "metadata": {
        "colab": {
          "base_uri": "https://localhost:8080/"
        },
        "id": "Nmv84oO_nyPn",
        "outputId": "8927e27c-52a0-4fec-a789-e0275b3fa5a9"
      },
      "execution_count": 75,
      "outputs": [
        {
          "output_type": "stream",
          "name": "stdout",
          "text": [
            "heads\n"
          ]
        }
      ]
    },
    {
      "cell_type": "code",
      "source": [
        "toss1 = np.random.rand()\n",
        "toss2 = np.random.rand()\n",
        "toss3 = np.random.rand()\n",
        "\n",
        "if toss1 <= 0.5 and toss2 <= 0.5 and toss3 <= 0.5:\n",
        "   print(\"you win 100k\")\n",
        "elif toss1 > 0.5 and toss2 > 0.5 and toss3 > 0.5:\n",
        "  print(\"you lose 100K\")\n",
        "else:\n",
        "  print(\"nothing happens\")"
      ],
      "metadata": {
        "id": "FVVUWc9kn0QX",
        "outputId": "cdb40b0c-ae65-4237-c5a3-6944c5c54073",
        "colab": {
          "base_uri": "https://localhost:8080/"
        }
      },
      "execution_count": 34,
      "outputs": [
        {
          "output_type": "stream",
          "name": "stdout",
          "text": [
            "you win 100k\n"
          ]
        }
      ]
    },
    {
      "cell_type": "code",
      "source": [
        "# if you want matrix\n",
        "np.random.rand(3,2)"
      ],
      "metadata": {
        "id": "tPtr4MSCecED",
        "outputId": "a67f5ce8-000d-4642-f12e-13b7628ba86a",
        "colab": {
          "base_uri": "https://localhost:8080/"
        }
      },
      "execution_count": 36,
      "outputs": [
        {
          "output_type": "execute_result",
          "data": {
            "text/plain": [
              "array([[0.70869313, 0.16707938],\n",
              "       [0.37305178, 0.61390235],\n",
              "       [0.37246412, 0.36107906]])"
            ]
          },
          "metadata": {},
          "execution_count": 36
        }
      ]
    },
    {
      "cell_type": "code",
      "source": [
        "# if you want numbers outside (0,1)\n",
        "np.random.uniform(low = -1, high = 3, size = (3,2))"
      ],
      "metadata": {
        "id": "b3priIFhe2M0",
        "outputId": "4af46fd7-0e97-4c69-a9ed-53fd828a403a",
        "colab": {
          "base_uri": "https://localhost:8080/"
        }
      },
      "execution_count": 57,
      "outputs": [
        {
          "output_type": "execute_result",
          "data": {
            "text/plain": [
              "array([[-0.41047691,  1.18578359],\n",
              "       [-0.04064162,  2.03762727],\n",
              "       [ 0.29946113, -0.86547322]])"
            ]
          },
          "metadata": {},
          "execution_count": 57
        }
      ]
    },
    {
      "cell_type": "code",
      "source": [
        "np.random.randint(low = 0, high = 36 )\n",
        "abc=np.random.randint(low = 0, high = 36 )\n",
        "\n",
        "abcd = 8\n",
        "\n",
        "if abc == abcd:\n",
        "  print( \"Ganaste\")\n",
        "else:\n",
        "  print(\"perdiste\")\n",
        "\n"
      ],
      "metadata": {
        "id": "XDQ-0UFqgU6Q",
        "outputId": "ba8788ad-aee2-4659-d3b5-606e4855afbd",
        "colab": {
          "base_uri": "https://localhost:8080/"
        }
      },
      "execution_count": 309,
      "outputs": [
        {
          "output_type": "stream",
          "name": "stdout",
          "text": [
            "perdiste\n"
          ]
        }
      ]
    },
    {
      "cell_type": "code",
      "source": [
        "np.random.randint(low = 0, high = 36 )\n",
        "abc=np.random.randint(low = 0, high = 36 )\n",
        "\n",
        "abc22 = 23\n",
        "\n",
        "if abc < 12 :\n",
        " print(\"docena baja ganada\")\n",
        "elif abc < 25:\n",
        "  print(\"docena media ganada\")\n",
        "else:\n",
        "  print(\"docena mayor ganada\")"
      ],
      "metadata": {
        "id": "qqIHHKi0j-fZ",
        "outputId": "2660d617-0c74-47f1-eccb-deca1aa6f07e",
        "colab": {
          "base_uri": "https://localhost:8080/"
        }
      },
      "execution_count": 313,
      "outputs": [
        {
          "output_type": "stream",
          "name": "stdout",
          "text": [
            "docena mayor ganada\n"
          ]
        }
      ]
    },
    {
      "cell_type": "code",
      "source": [
        "np.random.randint(low = 0, high = 36 )\n",
        "abc=np.random.randint(low = 0, high = 36 )\n",
        "\n",
        "abcd = 8\n",
        "\n",
        "if abc == abcd:\n",
        "  print( \"Ganaste\")\n",
        "else:\n",
        "  print(\"perdiste\")\n",
        "\n",
        "if abc < 12 :\n",
        " print(\"docena baja ganada\")\n",
        "elif abc < 25:\n",
        "  print(\"docena media ganada\")\n",
        "else:\n",
        "  print(\"docena mayor ganada\")\n",
        "\n"
      ],
      "metadata": {
        "id": "RP9WxBFuk5SN",
        "outputId": "9196ba3b-c7fc-42c8-97c8-ab472e55b250",
        "colab": {
          "base_uri": "https://localhost:8080/"
        }
      },
      "execution_count": 327,
      "outputs": [
        {
          "output_type": "stream",
          "name": "stdout",
          "text": [
            "perdiste\n",
            "docena media ganada\n"
          ]
        }
      ]
    }
  ]
}