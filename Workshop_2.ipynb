{
  "nbformat": 4,
  "nbformat_minor": 0,
  "metadata": {
    "colab": {
      "provenance": [],
      "include_colab_link": true
    },
    "kernelspec": {
      "name": "python3",
      "display_name": "Python 3"
    },
    "language_info": {
      "name": "python"
    }
  },
  "cells": [
    {
      "cell_type": "markdown",
      "metadata": {
        "id": "view-in-github",
        "colab_type": "text"
      },
      "source": [
        "<a href=\"https://colab.research.google.com/github/Sebastian4524/Datavisualization/blob/main/Workshop_2.ipynb\" target=\"_parent\"><img src=\"https://colab.research.google.com/assets/colab-badge.svg\" alt=\"Open In Colab\"/></a>"
      ]
    },
    {
      "cell_type": "markdown",
      "source": [
        "<h1 align = \"center\">\n",
        "<strong> Universidad de La Salle </strong>\n",
        "</h1>\n",
        "\n",
        "<h1 align = \"center\">\n",
        "<strong> Finance and International Commerce Program </strong>\n",
        "</h1>\n",
        "\n",
        "<h1 align = \"center\">\n",
        "<strong> Data Visualization - Workshop 2 </strong>\n",
        "</h1>\n"
      ],
      "metadata": {
        "id": "BJolccUZSw9G"
      }
    },
    {
      "cell_type": "markdown",
      "source": [
        "# **Instructions**\n",
        "\n",
        "1. Please read carefully the document. Ask all the questions you may have.\n",
        "2. Save this file in your Google Drive.\n",
        "3. DO NOT alter any cell unless it specifically ask you to do it.\n",
        "4. You will have **two hours** (until 11am) maximum to finish and deliver this workshop.\n",
        "5. You can use any help you want: your notes, your codes, internet, classmates.\n",
        "6. Nevertheless, the workshop must be presented individually.\n",
        "7. Once you have finish, save a copy in your GitHub class repository.\n",
        "8. The deliver process is as follows:\n",
        "    \n",
        "    8.1. Via email you will send the link to the GitHub location.\n",
        "    \n",
        "    8.2. In the same mail, just for safety, you will attach a copy of your `.ipynb` file.\n",
        "    \n",
        "    8.3. The email must have the subject: \"W2 DV\".   "
      ],
      "metadata": {
        "id": "pLRc5RAyWsre"
      }
    },
    {
      "cell_type": "markdown",
      "source": [
        "# **To keep in mind**\n",
        "\n",
        "* The excercises propouse are intended to **push** you a little futher in your Pyton skills.\n",
        "* This means that there are going to be exercises above the level seen in class.\n",
        "* The idea is to incentive your creative thinking and solving problem skills.\n",
        "* As always there several ways to do the excersice. But in this case, I ask you to use only the tools we learned.\n",
        "* I ask you to trust me. Give your best effort. Grades do not matter here."
      ],
      "metadata": {
        "id": "4QKdNKujZEbk"
      }
    },
    {
      "cell_type": "markdown",
      "source": [
        "# **Exercise**\n",
        "\n",
        "**Roulette!**\n",
        "\n",
        "Let's simulate a casino game.\n",
        "Specifically, a single-zero (french) roulette.\n",
        "\n",
        "This game consists on rolling a ball over a wheel with number pockets.\n",
        "\n",
        "[Game](https://image.shutterstock.com/image-illustration/casino-roulette-wheel-chips-on-600w-1288790665.jpg)\n",
        "\n",
        "There are several ways to bet on this game, you have to code a few."
      ],
      "metadata": {
        "id": "2kRoSKUmaGl9"
      }
    },
    {
      "cell_type": "code",
      "source": [
        "import numpy as np"
      ],
      "metadata": {
        "id": "8lMuVMe0iwhw"
      },
      "execution_count": 1,
      "outputs": []
    },
    {
      "cell_type": "markdown",
      "source": [
        "## Ex 1 - Number Bet\n",
        "\n",
        "You can bet on any number between 0 and 36.\n",
        "You win if the result is the number you bet on.\n",
        "In any other case, you lose.\n",
        "\n",
        "Write the appropiate the code to reflect this process.\n",
        "\n",
        "The result must show the bet made, the result obtained and if you win or lose."
      ],
      "metadata": {
        "id": "PYIRNu3imJ_n"
      }
    },
    {
      "cell_type": "code",
      "execution_count": 166,
      "metadata": {
        "id": "9TaC9734lQMI",
        "colab": {
          "base_uri": "https://localhost:8080/"
        },
        "outputId": "39199657-7cfb-4d3f-9f37-b93c308aaa76"
      },
      "outputs": [
        {
          "output_type": "stream",
          "name": "stdout",
          "text": [
            "perdiste\n"
          ]
        }
      ],
      "source": [
        "# Answ. Ex 1\n",
        "# (write your code below)\n",
        "np.random.randint(low = 0, high = 36 )\n",
        "abc=np.random.randint(low = 0, high = 36 )\n",
        "\n",
        "abcd = 8\n",
        "\n",
        "if abc == abcd:\n",
        "  print( \"Ganaste\")\n",
        "else:\n",
        "  print(\"perdiste\")\n"
      ]
    },
    {
      "cell_type": "markdown",
      "source": [
        "## Ex 2 - Color Bet\n",
        "\n",
        "Each color has an associated color. Zero is neutral.\n",
        "\n",
        "And the rest of the numbers vary between black and red (see the previous image).\n",
        "\n",
        "Write the appropiate code to simulate a random round of Roulette using only the color bet (black or white).\n",
        "\n",
        "The result must show the bet made, the result obtained and if you win or lose.\n",
        "\n",
        "*Tip: first define when you lose and when you win.*"
      ],
      "metadata": {
        "id": "LAdWe8iEaL7B"
      }
    },
    {
      "cell_type": "code",
      "execution_count": 167,
      "metadata": {
        "id": "rw792kISSt3n",
        "colab": {
          "base_uri": "https://localhost:8080/"
        },
        "outputId": "ed723fe4-18f6-4283-f5d8-b17287ba33ab"
      },
      "outputs": [
        {
          "output_type": "stream",
          "name": "stdout",
          "text": [
            "Color Negro gana \n"
          ]
        }
      ],
      "source": [
        "# Answ. Ex 2\n",
        "# (write your code below)\n",
        "# Answ. Ex 1\n",
        "# (write your code below)\n",
        "np.random.randint(low = 0, high = 36 )\n",
        "abc=np.random.randint(low = 0, high = 36 )\n",
        "#mi apuesta al color#\n",
        "negro = (2,4,6,8,10,11,13,15,17,20,22,24,26,28,29,31,33,35)\n",
        "\n",
        "if abc in negro:\n",
        "  print( \"Color Negro gana \")\n",
        "else:\n",
        "  print(\"Color Blanco Pierde \")\n",
        ""
      ]
    },
    {
      "cell_type": "markdown",
      "source": [
        "## Ex 3 - Dozens Bet\n",
        "\n",
        "Given the 3 groups:\n",
        "\n",
        "A -> numbers between 1 and 12.\n",
        "B -> numbers between 13 and 24.\n",
        "C -> numbers between 25 and 36.\n",
        "\n",
        "Write the appropiate code to print the result of betting exclusively with dozens.\n",
        "\n",
        "The result must show the bet made, the result obtained and if you win or lose.\n",
        "\n",
        "*Tip: Note that zero is not in the groups but it is a possible result.*"
      ],
      "metadata": {
        "id": "YFsGiwcNfgzP"
      }
    },
    {
      "cell_type": "code",
      "source": [
        "# Answ. Ex 3\n",
        "# (write your code below)\n",
        "np.random.randint(low = 0, high = 36 )\n",
        "abc=np.random.randint(low = 0, high = 36 )\n",
        "\n",
        "#mi numero de apuesta es#\n",
        "apuestanumero= 35\n",
        "a= (1,2,3,4,5,6,7,8,9,10,11,12)\n",
        "b= (13,14,15,16,17,18,19,20,21,22,23,24)\n",
        "c= (25,26,27,28,29,30,31,32,33,34,35,36)\n",
        "if apuestanumero in a:\n",
        "    print(\"Número de apuesta:\", apuestanumero, \"caído en la docena baja\")\n",
        "elif apuestanumero in b:\n",
        "    print(\"Número de apuesta:\", apuestanumero, \"caído en la docena media\")\n",
        "else:\n",
        "    print(\"Número de apuesta:\", apuestanumero, \"caído en la docena alta\")\n",
        "\n",
        "    if (abc in a and apuestanumero in a) or (abc in b and apuestanumero in b) or (abc in c and apuestanumero in c):\n",
        "     print(\"¡Has ganado!\")\n",
        "    else:\n",
        "     print(\"¡Has perdido!\")"
      ],
      "metadata": {
        "id": "Dwdsh30Ti3vl",
        "colab": {
          "base_uri": "https://localhost:8080/"
        },
        "outputId": "a7f268dc-92e6-415d-c86d-d46d2d0bd63d"
      },
      "execution_count": 152,
      "outputs": [
        {
          "output_type": "stream",
          "name": "stdout",
          "text": [
            "Número de apuesta: 35 caído en la docena alta\n",
            "¡Has perdido!\n"
          ]
        }
      ]
    },
    {
      "cell_type": "markdown",
      "source": [
        "## Ex 4 - Putting everything together\n",
        "\n",
        "Write the code that simulate a random game of Roulette where the person can bet on: Number, Color, Dozen or any combination she or he wants.\n",
        "\n",
        "The result must show the bet made, the result obtained and if you win or lose."
      ],
      "metadata": {
        "id": "RSyiV1UPlVcJ"
      }
    },
    {
      "cell_type": "code",
      "source": [
        "# Answ. Ex 4\n",
        "# (write your code below)\n",
        "\n",
        "np.random.randint(low = 0, high = 36 )\n",
        "abc=np.random.randint(low = 0, high = 36 )\n",
        "\n",
        "apuestanumero = 15\n",
        "\n",
        "if abc == apuestanumero:\n",
        "  print( \"el numero que obtenido en la ruleta es\",abc,\" y el numero apostado es\",apuestanumero,\" significa que !!!!!Ganaste!!!!!\")\n",
        "else:\n",
        "  print(\"el numero obtenido en la ruleta es\",abc,\" y el numero apostado es\",apuestanumero,\" significa que !perdiste!\")\n",
        "\n",
        "  negro = (2,4,6,8,10,11,13,15,17,20,22,24,26,28,29,31,33,35)\n",
        "\n",
        "if abc in negro:\n",
        "  print( \"el numero que apostaste es\",apuestanumero,\"el cual es de color negro lo que significa que !!!!Ganaste!!!!\")\n",
        "else:\n",
        "  print(\"el numero que apostaste es\",apuestanumero,\"el cual es de color blanco lo que significa que !!!!Perdiste!!!!\")\n",
        "a= (1,2,3,4,5,6,7,8,9,10,11,12)\n",
        "b= (13,14,15,16,17,18,19,20,21,22,23,24)\n",
        "c= (25,26,27,28,29,30,31,32,33,34,35,36)\n",
        "\n",
        "if apuestanumero in a:\n",
        "    print(\"El numero que apostaste es\", apuestanumero, \"caído en la docena baja\")\n",
        "elif apuestanumero in b:\n",
        "    print(\"El numero que apostaste es\", apuestanumero, \"caído en la docena media\")\n",
        "else:\n",
        "    print(\"El numero que apostaste es\", apuestanumero, \"caído en la docena alta\")\n",
        "if (abc in a and apuestanumero in a) or (abc in b and apuestanumero in b) or (abc in c and apuestanumero in c):\n",
        "  print(\"¡Has ganado!\")\n",
        "else:\n",
        " print(\"¡Has perdido!\")\n"
      ],
      "metadata": {
        "id": "FQU_vc_5sse0",
        "colab": {
          "base_uri": "https://localhost:8080/"
        },
        "outputId": "3a24012a-e88e-47fc-81fc-626676328242"
      },
      "execution_count": 165,
      "outputs": [
        {
          "output_type": "stream",
          "name": "stdout",
          "text": [
            "el numero obtenido en la ruleta es 30  y el numero apostado es 15  significa que !perdiste!\n",
            "el numero que apostaste es 15 el cual es de color blanco lo que significa que !!!!Perdiste!!!!\n",
            "El numero que apostaste es 15 caído en la docena media\n",
            "¡Has perdido!\n"
          ]
        }
      ]
    }
  ]
}