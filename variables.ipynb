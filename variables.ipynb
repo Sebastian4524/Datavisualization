{
  "nbformat": 4,
  "nbformat_minor": 0,
  "metadata": {
    "colab": {
      "provenance": [],
      "authorship_tag": "ABX9TyOg74pQzrJJ3RGL5gFIIbRw",
      "include_colab_link": true
    },
    "kernelspec": {
      "name": "python3",
      "display_name": "Python 3"
    },
    "language_info": {
      "name": "python"
    }
  },
  "cells": [
    {
      "cell_type": "markdown",
      "metadata": {
        "id": "view-in-github",
        "colab_type": "text"
      },
      "source": [
        "<a href=\"https://colab.research.google.com/github/Sebastian4524/Datavisualization/blob/main/variables.ipynb\" target=\"_parent\"><img src=\"https://colab.research.google.com/assets/colab-badge.svg\" alt=\"Open In Colab\"/></a>"
      ]
    },
    {
      "cell_type": "code",
      "execution_count": 87,
      "metadata": {
        "id": "GBLbhD6gNhyM"
      },
      "outputs": [],
      "source": [
        "#example\n",
        "a = 5\n",
        "b = 7"
      ]
    },
    {
      "cell_type": "code",
      "source": [
        "print(a + b + 11)"
      ],
      "metadata": {
        "colab": {
          "base_uri": "https://localhost:8080/"
        },
        "id": "9awXpnEWN13t",
        "outputId": "5408de74-208d-4fd8-ac2a-8115fa7fcaa8"
      },
      "execution_count": 88,
      "outputs": [
        {
          "output_type": "stream",
          "name": "stdout",
          "text": [
            "23\n"
          ]
        }
      ]
    },
    {
      "cell_type": "code",
      "source": [
        "# trick\n",
        "x = y = z = 100"
      ],
      "metadata": {
        "id": "JoH8utdZN99F"
      },
      "execution_count": 93,
      "outputs": []
    },
    {
      "cell_type": "code",
      "source": [
        "print( x + y + z)"
      ],
      "metadata": {
        "colab": {
          "base_uri": "https://localhost:8080/"
        },
        "id": "RlBZpewDO1gA",
        "outputId": "fdac578c-8a53-4b91-fb09-610e362448cb"
      },
      "execution_count": 90,
      "outputs": [
        {
          "output_type": "stream",
          "name": "stdout",
          "text": [
            "300\n"
          ]
        }
      ]
    },
    {
      "cell_type": "code",
      "source": [
        "# trick\n",
        "n, m = 10,15"
      ],
      "metadata": {
        "id": "WSRMUWzKO9J_"
      },
      "execution_count": 91,
      "outputs": []
    },
    {
      "cell_type": "code",
      "source": [
        "# ** delete and clean **\n",
        "del x,n"
      ],
      "metadata": {
        "colab": {
          "base_uri": "https://localhost:8080/",
          "height": 159
        },
        "id": "_Nt2KVvvPa3K",
        "outputId": "378a4c6f-108c-49ea-9def-7de559ee632a"
      },
      "execution_count": 119,
      "outputs": [
        {
          "output_type": "error",
          "ename": "NameError",
          "evalue": "name 'x' is not defined",
          "traceback": [
            "\u001b[0;31m---------------------------------------------------------------------------\u001b[0m",
            "\u001b[0;31mNameError\u001b[0m                                 Traceback (most recent call last)",
            "\u001b[0;32m<ipython-input-119-48d8fd68e239>\u001b[0m in \u001b[0;36m<cell line: 2>\u001b[0;34m()\u001b[0m\n\u001b[1;32m      1\u001b[0m \u001b[0;31m# ** delete and clean **\u001b[0m\u001b[0;34m\u001b[0m\u001b[0;34m\u001b[0m\u001b[0m\n\u001b[0;32m----> 2\u001b[0;31m \u001b[0;32mdel\u001b[0m \u001b[0mx\u001b[0m\u001b[0;34m,\u001b[0m\u001b[0mn\u001b[0m\u001b[0;34m,\u001b[0m \u001b[0ma\u001b[0m\u001b[0;34m\u001b[0m\u001b[0;34m\u001b[0m\u001b[0m\n\u001b[0m",
            "\u001b[0;31mNameError\u001b[0m: name 'x' is not defined"
          ]
        }
      ]
    },
    {
      "cell_type": "code",
      "source": [
        "# clear all  variables\n",
        "%reset"
      ],
      "metadata": {
        "id": "KOGCONrWQmZ7"
      },
      "execution_count": null,
      "outputs": []
    },
    {
      "cell_type": "code",
      "source": [
        "# exercise\n",
        "## print the result of rounding to 3 decimals the calculation\n",
        "## 10 divided its precedents\n",
        "print(round(10/1,3))\n",
        "print(round(10/2,3))\n",
        "print(round(10/3,3))\n",
        "print(round(10/4,3))\n",
        "print(round(10/5,3))\n",
        "print(round(10/6,3))\n",
        "print(round(10/7,3))\n",
        "print(round(10/8,3))\n",
        "print(round(10/9,3))\n",
        "print(round(10/10,3))\n"
      ],
      "metadata": {
        "id": "niNR5kxMQ48-"
      },
      "execution_count": null,
      "outputs": []
    },
    {
      "cell_type": "code",
      "source": [
        "for i in range (0,11) : print(\"aproximate with\", i , \"decimals:\",round(7.23456789,i))"
      ],
      "metadata": {
        "colab": {
          "base_uri": "https://localhost:8080/"
        },
        "id": "_rxA9CqYRCxc",
        "outputId": "e74c1e72-d2bf-49b5-da13-89c9cc50e5e0"
      },
      "execution_count": 97,
      "outputs": [
        {
          "output_type": "stream",
          "name": "stdout",
          "text": [
            "aproximate with 0 decimals: 7.0\n",
            "aproximate with 1 decimals: 7.2\n",
            "aproximate with 2 decimals: 7.23\n",
            "aproximate with 3 decimals: 7.235\n",
            "aproximate with 4 decimals: 7.2346\n",
            "aproximate with 5 decimals: 7.23457\n",
            "aproximate with 6 decimals: 7.234568\n",
            "aproximate with 7 decimals: 7.2345679\n",
            "aproximate with 8 decimals: 7.23456789\n",
            "aproximate with 9 decimals: 7.23456789\n",
            "aproximate with 10 decimals: 7.23456789\n"
          ]
        }
      ]
    },
    {
      "cell_type": "code",
      "source": [
        "\n",
        "t= 0\n",
        "y= 10\n",
        "\n",
        "for i in range (t,y) : print(\"aproximate with\", i , \"decimals:\",round(7.23456789,i))"
      ],
      "metadata": {
        "colab": {
          "base_uri": "https://localhost:8080/"
        },
        "id": "OYBoD5klRiMO",
        "outputId": "e1c6c26a-d2de-4372-d5cd-9993f6b9d903"
      },
      "execution_count": 106,
      "outputs": [
        {
          "output_type": "stream",
          "name": "stdout",
          "text": [
            "aproximate with 0 decimals: 7.0\n",
            "aproximate with 1 decimals: 7.2\n",
            "aproximate with 2 decimals: 7.23\n",
            "aproximate with 3 decimals: 7.235\n",
            "aproximate with 4 decimals: 7.2346\n",
            "aproximate with 5 decimals: 7.23457\n",
            "aproximate with 6 decimals: 7.234568\n",
            "aproximate with 7 decimals: 7.2345679\n",
            "aproximate with 8 decimals: 7.23456789\n",
            "aproximate with 9 decimals: 7.23456789\n"
          ]
        }
      ]
    },
    {
      "cell_type": "code",
      "source": [
        "a = 10      #number\n",
        "b = 3       #number of decimals\n",
        "for i in range(1,a+1):\n",
        " print(a,\"/\", i , \" = \", round(a/i,b))"
      ],
      "metadata": {
        "colab": {
          "base_uri": "https://localhost:8080/"
        },
        "id": "-ZcPCPazSYkC",
        "outputId": "6d676d65-29ce-4632-f5d7-474f4e3d7f74"
      },
      "execution_count": 124,
      "outputs": [
        {
          "output_type": "stream",
          "name": "stdout",
          "text": [
            "10 / 1  =  10.0\n",
            "10 / 2  =  5.0\n",
            "10 / 3  =  3.333\n",
            "10 / 4  =  2.5\n",
            "10 / 5  =  2.0\n",
            "10 / 6  =  1.667\n",
            "10 / 7  =  1.429\n",
            "10 / 8  =  1.25\n",
            "10 / 9  =  1.111\n",
            "10 / 10  =  1.0\n"
          ]
        }
      ]
    },
    {
      "cell_type": "code",
      "source": [
        "for i in range(1,100):\n",
        "  multiple = 7 * i\n",
        "  print(multiple)"
      ],
      "metadata": {
        "colab": {
          "base_uri": "https://localhost:8080/"
        },
        "id": "Cv4hoU3eT6E6",
        "outputId": "9ab76f49-77db-4756-859a-68bb4b6a4c6b"
      },
      "execution_count": 136,
      "outputs": [
        {
          "output_type": "stream",
          "name": "stdout",
          "text": [
            "7\n",
            "14\n",
            "21\n",
            "28\n",
            "35\n",
            "42\n",
            "49\n",
            "56\n",
            "63\n",
            "70\n",
            "77\n",
            "84\n",
            "91\n",
            "98\n",
            "105\n",
            "112\n",
            "119\n",
            "126\n",
            "133\n",
            "140\n",
            "147\n",
            "154\n",
            "161\n",
            "168\n",
            "175\n",
            "182\n",
            "189\n",
            "196\n",
            "203\n",
            "210\n",
            "217\n",
            "224\n",
            "231\n",
            "238\n",
            "245\n",
            "252\n",
            "259\n",
            "266\n",
            "273\n",
            "280\n",
            "287\n",
            "294\n",
            "301\n",
            "308\n",
            "315\n",
            "322\n",
            "329\n",
            "336\n",
            "343\n",
            "350\n",
            "357\n",
            "364\n",
            "371\n",
            "378\n",
            "385\n",
            "392\n",
            "399\n",
            "406\n",
            "413\n",
            "420\n",
            "427\n",
            "434\n",
            "441\n",
            "448\n",
            "455\n",
            "462\n",
            "469\n",
            "476\n",
            "483\n",
            "490\n",
            "497\n",
            "504\n",
            "511\n",
            "518\n",
            "525\n",
            "532\n",
            "539\n",
            "546\n",
            "553\n",
            "560\n",
            "567\n",
            "574\n",
            "581\n",
            "588\n",
            "595\n",
            "602\n",
            "609\n",
            "616\n",
            "623\n",
            "630\n",
            "637\n",
            "644\n",
            "651\n",
            "658\n",
            "665\n",
            "672\n",
            "679\n",
            "686\n",
            "693\n"
          ]
        }
      ]
    },
    {
      "cell_type": "code",
      "source": [
        "n = 7\n",
        "m = 100\n",
        "for i in range(1,m+1):\n",
        "   print(n*i)\n"
      ],
      "metadata": {
        "id": "TtcuNg8hVaNm"
      },
      "execution_count": null,
      "outputs": []
    },
    {
      "cell_type": "code",
      "source": [
        "print(\"the\", m, \"th multiplies of\",n)\n",
        "for i in range(1+m+1):\n",
        "  print(\"the multiple in position \", i,\"th is\",n*i)"
      ],
      "metadata": {
        "colab": {
          "base_uri": "https://localhost:8080/"
        },
        "id": "K2WU3sRXV_cv",
        "outputId": "37fb76cc-4683-4830-bb9a-cad7a7a9385d"
      },
      "execution_count": 132,
      "outputs": [
        {
          "output_type": "stream",
          "name": "stdout",
          "text": [
            "the 100 th multiplies of 7\n",
            "the multiple in position  0 th is 0\n",
            "the multiple in position  1 th is 7\n",
            "the multiple in position  2 th is 14\n",
            "the multiple in position  3 th is 21\n",
            "the multiple in position  4 th is 28\n",
            "the multiple in position  5 th is 35\n",
            "the multiple in position  6 th is 42\n",
            "the multiple in position  7 th is 49\n",
            "the multiple in position  8 th is 56\n",
            "the multiple in position  9 th is 63\n",
            "the multiple in position  10 th is 70\n",
            "the multiple in position  11 th is 77\n",
            "the multiple in position  12 th is 84\n",
            "the multiple in position  13 th is 91\n",
            "the multiple in position  14 th is 98\n",
            "the multiple in position  15 th is 105\n",
            "the multiple in position  16 th is 112\n",
            "the multiple in position  17 th is 119\n",
            "the multiple in position  18 th is 126\n",
            "the multiple in position  19 th is 133\n",
            "the multiple in position  20 th is 140\n",
            "the multiple in position  21 th is 147\n",
            "the multiple in position  22 th is 154\n",
            "the multiple in position  23 th is 161\n",
            "the multiple in position  24 th is 168\n",
            "the multiple in position  25 th is 175\n",
            "the multiple in position  26 th is 182\n",
            "the multiple in position  27 th is 189\n",
            "the multiple in position  28 th is 196\n",
            "the multiple in position  29 th is 203\n",
            "the multiple in position  30 th is 210\n",
            "the multiple in position  31 th is 217\n",
            "the multiple in position  32 th is 224\n",
            "the multiple in position  33 th is 231\n",
            "the multiple in position  34 th is 238\n",
            "the multiple in position  35 th is 245\n",
            "the multiple in position  36 th is 252\n",
            "the multiple in position  37 th is 259\n",
            "the multiple in position  38 th is 266\n",
            "the multiple in position  39 th is 273\n",
            "the multiple in position  40 th is 280\n",
            "the multiple in position  41 th is 287\n",
            "the multiple in position  42 th is 294\n",
            "the multiple in position  43 th is 301\n",
            "the multiple in position  44 th is 308\n",
            "the multiple in position  45 th is 315\n",
            "the multiple in position  46 th is 322\n",
            "the multiple in position  47 th is 329\n",
            "the multiple in position  48 th is 336\n",
            "the multiple in position  49 th is 343\n",
            "the multiple in position  50 th is 350\n",
            "the multiple in position  51 th is 357\n",
            "the multiple in position  52 th is 364\n",
            "the multiple in position  53 th is 371\n",
            "the multiple in position  54 th is 378\n",
            "the multiple in position  55 th is 385\n",
            "the multiple in position  56 th is 392\n",
            "the multiple in position  57 th is 399\n",
            "the multiple in position  58 th is 406\n",
            "the multiple in position  59 th is 413\n",
            "the multiple in position  60 th is 420\n",
            "the multiple in position  61 th is 427\n",
            "the multiple in position  62 th is 434\n",
            "the multiple in position  63 th is 441\n",
            "the multiple in position  64 th is 448\n",
            "the multiple in position  65 th is 455\n",
            "the multiple in position  66 th is 462\n",
            "the multiple in position  67 th is 469\n",
            "the multiple in position  68 th is 476\n",
            "the multiple in position  69 th is 483\n",
            "the multiple in position  70 th is 490\n",
            "the multiple in position  71 th is 497\n",
            "the multiple in position  72 th is 504\n",
            "the multiple in position  73 th is 511\n",
            "the multiple in position  74 th is 518\n",
            "the multiple in position  75 th is 525\n",
            "the multiple in position  76 th is 532\n",
            "the multiple in position  77 th is 539\n",
            "the multiple in position  78 th is 546\n",
            "the multiple in position  79 th is 553\n",
            "the multiple in position  80 th is 560\n",
            "the multiple in position  81 th is 567\n",
            "the multiple in position  82 th is 574\n",
            "the multiple in position  83 th is 581\n",
            "the multiple in position  84 th is 588\n",
            "the multiple in position  85 th is 595\n",
            "the multiple in position  86 th is 602\n",
            "the multiple in position  87 th is 609\n",
            "the multiple in position  88 th is 616\n",
            "the multiple in position  89 th is 623\n",
            "the multiple in position  90 th is 630\n",
            "the multiple in position  91 th is 637\n",
            "the multiple in position  92 th is 644\n",
            "the multiple in position  93 th is 651\n",
            "the multiple in position  94 th is 658\n",
            "the multiple in position  95 th is 665\n",
            "the multiple in position  96 th is 672\n",
            "the multiple in position  97 th is 679\n",
            "the multiple in position  98 th is 686\n",
            "the multiple in position  99 th is 693\n",
            "the multiple in position  100 th is 700\n",
            "the multiple in position  101 th is 707\n"
          ]
        }
      ]
    }
  ]
}