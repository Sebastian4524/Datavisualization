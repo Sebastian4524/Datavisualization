{
  "nbformat": 4,
  "nbformat_minor": 0,
  "metadata": {
    "colab": {
      "provenance": [],
      "authorship_tag": "ABX9TyOOuPVUhpUTLkO7Yh1LK9W6",
      "include_colab_link": true
    },
    "kernelspec": {
      "name": "python3",
      "display_name": "Python 3"
    },
    "language_info": {
      "name": "python"
    }
  },
  "cells": [
    {
      "cell_type": "markdown",
      "metadata": {
        "id": "view-in-github",
        "colab_type": "text"
      },
      "source": [
        "<a href=\"https://colab.research.google.com/github/Sebastian4524/Datavisualization/blob/main/01_python_basics.ipynb\" target=\"_parent\"><img src=\"https://colab.research.google.com/assets/colab-badge.svg\" alt=\"Open In Colab\"/></a>"
      ]
    },
    {
      "cell_type": "code",
      "execution_count": null,
      "metadata": {
        "id": "qMiaEZAoDgZJ"
      },
      "outputs": [],
      "source": [
        "# adition\n",
        "3 + 3"
      ]
    },
    {
      "cell_type": "code",
      "source": [
        "# Substraction10-5\n"
      ],
      "metadata": {
        "id": "b6bLr762HTI5"
      },
      "execution_count": null,
      "outputs": []
    },
    {
      "cell_type": "code",
      "source": [
        "# multiplication\n",
        "5 * 5    # five times five"
      ],
      "metadata": {
        "id": "v3RJqu0QHYA5"
      },
      "execution_count": null,
      "outputs": []
    },
    {
      "cell_type": "code",
      "source": [
        "# division\n",
        "10 / 3"
      ],
      "metadata": {
        "id": "wHMnJ1yyH1ue"
      },
      "execution_count": null,
      "outputs": []
    },
    {
      "cell_type": "code",
      "source": [
        "# integer Division\n",
        "10 / 11\n"
      ],
      "metadata": {
        "id": "W7LlUA7BINtT"
      },
      "execution_count": null,
      "outputs": []
    },
    {
      "cell_type": "code",
      "source": [
        "# Exponential\n",
        "2 ** 2"
      ],
      "metadata": {
        "id": "IlikhEBcJb8O"
      },
      "execution_count": null,
      "outputs": []
    },
    {
      "cell_type": "code",
      "source": [
        "#composite operantios and parentheses\n",
        "2 * 3 ** 2 - 1"
      ],
      "metadata": {
        "colab": {
          "base_uri": "https://localhost:8080/"
        },
        "id": "gU84LOIkJ7Q_",
        "outputId": "0a30aee1-2495-453b-b586-67a8c92269c7"
      },
      "execution_count": null,
      "outputs": [
        {
          "output_type": "execute_result",
          "data": {
            "text/plain": [
              "17"
            ]
          },
          "metadata": {},
          "execution_count": 18
        }
      ]
    },
    {
      "cell_type": "code",
      "source": [
        "#composite operantios and parentheses\n",
        "(2 * 3) ** 2 - 1"
      ],
      "metadata": {
        "colab": {
          "base_uri": "https://localhost:8080/"
        },
        "id": "wGCnXkUhK7br",
        "outputId": "becadbe5-59e3-474e-e4f0-f60496db9c1c"
      },
      "execution_count": null,
      "outputs": [
        {
          "output_type": "execute_result",
          "data": {
            "text/plain": [
              "35"
            ]
          },
          "metadata": {},
          "execution_count": 19
        }
      ]
    },
    {
      "cell_type": "code",
      "source": [
        "#composite operantios and parentheses\n",
        "2 * (3 ** 2 - 1)"
      ],
      "metadata": {
        "colab": {
          "base_uri": "https://localhost:8080/"
        },
        "id": "kBJ9Ke7ALFI7",
        "outputId": "2f2f5f38-2705-4909-b0a6-4968283cc18c"
      },
      "execution_count": null,
      "outputs": [
        {
          "output_type": "execute_result",
          "data": {
            "text/plain": [
              "16"
            ]
          },
          "metadata": {},
          "execution_count": 21
        }
      ]
    },
    {
      "cell_type": "code",
      "source": [
        "# types of number\n",
        "*natural* :0,1,2,3,4,5,6,7,8,9 these are all  the positive integers\n",
        "*intergers*-2,-1,0,1,2\n",
        "*Real*: All numbers except imaginary ones"
      ],
      "metadata": {
        "id": "qKMiSuvcLd4z"
      },
      "execution_count": null,
      "outputs": []
    },
    {
      "cell_type": "code",
      "source": [
        "# whay type of number is\n",
        "type (1.0)"
      ],
      "metadata": {
        "colab": {
          "base_uri": "https://localhost:8080/"
        },
        "id": "Bb21CoDpMEYO",
        "outputId": "cf465737-c6ea-4cd7-e325-25047d59f75b"
      },
      "execution_count": null,
      "outputs": [
        {
          "output_type": "execute_result",
          "data": {
            "text/plain": [
              "float"
            ]
          },
          "metadata": {},
          "execution_count": 30
        }
      ]
    },
    {
      "cell_type": "code",
      "source": [
        "1e9"
      ],
      "metadata": {
        "colab": {
          "base_uri": "https://localhost:8080/"
        },
        "id": "x5vB-iBZMLCY",
        "outputId": "afe316e4-884b-45ef-edaa-1dbf96c5f582"
      },
      "execution_count": null,
      "outputs": [
        {
          "output_type": "execute_result",
          "data": {
            "text/plain": [
              "1000000000.0"
            ]
          },
          "metadata": {},
          "execution_count": 32
        }
      ]
    },
    {
      "cell_type": "code",
      "source": [
        "type (1000000000.0)\n"
      ],
      "metadata": {
        "colab": {
          "base_uri": "https://localhost:8080/"
        },
        "id": "X-sgjHKTNwOi",
        "outputId": "e712af8e-0ec6-4c51-f286-3978e2afeaab"
      },
      "execution_count": null,
      "outputs": [
        {
          "output_type": "execute_result",
          "data": {
            "text/plain": [
              "float"
            ]
          },
          "metadata": {},
          "execution_count": 33
        }
      ]
    },
    {
      "cell_type": "code",
      "source": [
        "1*10**-3"
      ],
      "metadata": {
        "colab": {
          "base_uri": "https://localhost:8080/"
        },
        "id": "dpmVbVa9OG3E",
        "outputId": "f128f504-4fdb-4fba-8955-03b9452df169"
      },
      "execution_count": null,
      "outputs": [
        {
          "output_type": "execute_result",
          "data": {
            "text/plain": [
              "0.001"
            ]
          },
          "metadata": {},
          "execution_count": 35
        }
      ]
    },
    {
      "cell_type": "code",
      "source": [
        "2.50*10**-4\n"
      ],
      "metadata": {
        "colab": {
          "base_uri": "https://localhost:8080/"
        },
        "id": "LH4UkBOWOjut",
        "outputId": "2bc9096f-6abe-44af-f404-065ca7dfce85"
      },
      "execution_count": null,
      "outputs": [
        {
          "output_type": "execute_result",
          "data": {
            "text/plain": [
              "0.00025"
            ]
          },
          "metadata": {},
          "execution_count": 36
        }
      ]
    },
    {
      "cell_type": "markdown",
      "source": [
        "# basics and uselful functions\n",
        "2024"
      ],
      "metadata": {
        "id": "WvHtEfibAS_O"
      }
    },
    {
      "cell_type": "code",
      "source": [
        "print(2024)"
      ],
      "metadata": {
        "id": "2pBe_7VUAvcQ",
        "outputId": "2fb86005-9c1c-402a-8aea-5ab4c101115b",
        "colab": {
          "base_uri": "https://localhost:8080/"
        }
      },
      "execution_count": 2,
      "outputs": [
        {
          "output_type": "stream",
          "name": "stdout",
          "text": [
            "2024\n"
          ]
        }
      ]
    },
    {
      "cell_type": "code",
      "source": [
        "print(2024, 2, 21 )"
      ],
      "metadata": {
        "id": "Zjx2fkXHBAtN",
        "outputId": "369105c2-5e04-4ddc-f01d-a86c7b95f37f",
        "colab": {
          "base_uri": "https://localhost:8080/"
        }
      },
      "execution_count": 3,
      "outputs": [
        {
          "output_type": "stream",
          "name": "stdout",
          "text": [
            "2024 2 21\n"
          ]
        }
      ]
    },
    {
      "cell_type": "code",
      "source": [
        "#example loop\n",
        "for i in range(0,10): print (i)\n"
      ],
      "metadata": {
        "id": "RSHIMLlfBMcc",
        "outputId": "d32ff06d-87b7-4f52-cb6c-1fe11d5f65b1",
        "colab": {
          "base_uri": "https://localhost:8080/"
        }
      },
      "execution_count": 36,
      "outputs": [
        {
          "output_type": "stream",
          "name": "stdout",
          "text": [
            "0\n",
            "1\n",
            "2\n",
            "3\n",
            "4\n",
            "5\n",
            "6\n",
            "7\n",
            "8\n",
            "9\n"
          ]
        }
      ]
    },
    {
      "cell_type": "code",
      "source": [
        "# example - with text\n",
        "print (\"my name is sebastian\")\n",
        "print ( \"first name;\",\"sebastian\",\"last name; Montana\")\n",
        "print ( \"first name;\",\"sebastian\", \"\\t last name; Montana\")\n",
        "print ( \"first name;\",\"sebastian\", \"\\n last name; Montana\")\n",
        "print ( \"first name;\",\"sebastian\", \"\\ last name; Montana\")"
      ],
      "metadata": {
        "id": "zpQq3QjrC3V2",
        "outputId": "2f1074cb-2c42-4069-e659-cc4b391bcf21",
        "colab": {
          "base_uri": "https://localhost:8080/"
        }
      },
      "execution_count": 13,
      "outputs": [
        {
          "output_type": "stream",
          "name": "stdout",
          "text": [
            "my name is sebastian\n",
            "first name; sebastian last name; Montana\n",
            "first name; sebastian \t last name; Montana\n",
            "first name; sebastian \n",
            " last name; Montana\n",
            "first name; sebastian \r last name; Montana\n"
          ]
        }
      ]
    },
    {
      "cell_type": "code",
      "source": [
        "# example with text and numbers\n",
        "print ( \"taking class \",21)"
      ],
      "metadata": {
        "id": "o72bpWlFETgh",
        "outputId": "314d235a-e36b-44ee-95a2-f19df8a018a9",
        "colab": {
          "base_uri": "https://localhost:8080/"
        }
      },
      "execution_count": 16,
      "outputs": [
        {
          "output_type": "stream",
          "name": "stdout",
          "text": [
            "taking class  21\n"
          ]
        }
      ]
    },
    {
      "cell_type": "markdown",
      "source": [
        "# **Round**\n"
      ],
      "metadata": {
        "id": "JFCt1nj_EsR7"
      }
    },
    {
      "cell_type": "code",
      "source": [
        "round(7.698525,0)"
      ],
      "metadata": {
        "id": "C-03nrnuEq3L",
        "outputId": "0c6b11ed-4e08-44a8-a4f4-974813295907",
        "colab": {
          "base_uri": "https://localhost:8080/"
        }
      },
      "execution_count": 18,
      "outputs": [
        {
          "output_type": "execute_result",
          "data": {
            "text/plain": [
              "8.0"
            ]
          },
          "metadata": {},
          "execution_count": 18
        }
      ]
    },
    {
      "cell_type": "code",
      "source": [
        "# example\n",
        "##let´s print the result of rounding from 0 to 3 decimals\n",
        "print(\"aproximate with\", 0 , \"decimals:\",round(7.2345,0))\n",
        "print(\"aproximate with\", 1 , \"decimals:\",round(7.2345,1))\n",
        "print(\"aproximate with\", 2 , \"decimals:\",round(7.2345,2))\n",
        "print(\"aproximate with\", 3, \"decimals:\",round(7.2345,3))\n",
        "print(\"aproximate with\", 4 , \"decimals:\",round(7.2345,4))"
      ],
      "metadata": {
        "id": "MYE6l_VIFBy7",
        "outputId": "0a3bad82-ac89-435c-d828-e0eddadcf04d",
        "colab": {
          "base_uri": "https://localhost:8080/"
        }
      },
      "execution_count": 32,
      "outputs": [
        {
          "output_type": "stream",
          "name": "stdout",
          "text": [
            "aproximate with 0 decimals: 7.0\n",
            "aproximate with 1 decimals: 7.2\n",
            "aproximate with 2 decimals: 7.23\n",
            "aproximate with 3 decimals: 7.234\n",
            "aproximate with 4 decimals: 7.2345\n"
          ]
        }
      ]
    },
    {
      "cell_type": "code",
      "source": [
        "for i in range(0,10): print (i)\n"
      ],
      "metadata": {
        "id": "p5Bhh1HLHd8L"
      },
      "execution_count": 38,
      "outputs": []
    },
    {
      "cell_type": "code",
      "source": [
        " # gemini way\n",
        " for decimals in range(0, 5):\n",
        "    print(f\"aproximate with {decimals} decimals: {round(7.2345, decimals)}\")\n"
      ],
      "metadata": {
        "id": "6_Bu5xc9JC0j",
        "outputId": "5aeade4e-c9cf-483d-8514-289787fa4daf",
        "colab": {
          "base_uri": "https://localhost:8080/"
        }
      },
      "execution_count": 41,
      "outputs": [
        {
          "output_type": "stream",
          "name": "stdout",
          "text": [
            "aproximate with 0 decimals: 7.0\n",
            "aproximate with 1 decimals: 7.2\n",
            "aproximate with 2 decimals: 7.23\n",
            "aproximate with 3 decimals: 7.234\n",
            "aproximate with 4 decimals: 7.2345\n"
          ]
        }
      ]
    },
    {
      "cell_type": "code",
      "source": [
        "# example with loop\n",
        "for i in range(0,6):\n",
        " print(\"aproximate with\", i , \"decimals:\",round(7.234567,i))"
      ],
      "metadata": {
        "id": "SuPen7iyJ0BF",
        "outputId": "e98a3be4-0ca0-4c0b-e4a4-61ae9efaf459",
        "colab": {
          "base_uri": "https://localhost:8080/"
        }
      },
      "execution_count": 49,
      "outputs": [
        {
          "output_type": "stream",
          "name": "stdout",
          "text": [
            "aproximate with 0 decimals: 7.0\n",
            "aproximate with 1 decimals: 7.2\n",
            "aproximate with 2 decimals: 7.23\n",
            "aproximate with 3 decimals: 7.235\n",
            "aproximate with 4 decimals: 7.2346\n",
            "aproximate with 5 decimals: 7.23457\n"
          ]
        }
      ]
    },
    {
      "cell_type": "code",
      "source": [
        "# exercise\n",
        "## print the result of rounding to 3 decimals the calculation\n",
        "## 10 divided its precedents"
      ],
      "metadata": {
        "id": "YOPaam5QL3Wo"
      },
      "execution_count": 50,
      "outputs": []
    },
    {
      "cell_type": "code",
      "source": [
        "print(round(10/1,3))\n",
        "print(round(10/2,3))\n",
        "print(round(10/3,3))\n",
        "print(round(10/4,3))\n",
        "print(round(10/5,3))\n",
        "print(round(10/6,3))\n",
        "print(round(10/7,3))\n",
        "print(round(10/8,3))\n",
        "print(round(10/9,3))\n",
        "print(round(10/10,3))\n",
        "\n",
        "\n"
      ],
      "metadata": {
        "id": "cXs5VQ6KMGBo",
        "outputId": "25a47381-4ed8-4f0e-97f5-f806b434ebc2",
        "colab": {
          "base_uri": "https://localhost:8080/"
        }
      },
      "execution_count": 65,
      "outputs": [
        {
          "output_type": "stream",
          "name": "stdout",
          "text": [
            "10.0\n",
            "5.0\n",
            "3.333\n",
            "2.5\n",
            "2.0\n",
            "1.667\n",
            "1.429\n",
            "1.25\n",
            "1.111\n",
            "1.0\n"
          ]
        }
      ]
    },
    {
      "cell_type": "code",
      "source": [
        "for i in range(0,6):\n",
        ""
      ],
      "metadata": {
        "id": "LS78CaLLNRwk",
        "outputId": "fa51eed1-b28b-4303-f900-9a0656f590c2",
        "colab": {
          "base_uri": "https://localhost:8080/"
        }
      },
      "execution_count": 60,
      "outputs": [
        {
          "output_type": "execute_result",
          "data": {
            "text/plain": [
              "10.0"
            ]
          },
          "metadata": {},
          "execution_count": 60
        }
      ]
    }
  ]
}